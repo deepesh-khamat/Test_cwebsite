{
  "nbformat": 4,
  "nbformat_minor": 0,
  "metadata": {
    "colab": {
      "provenance": [],
      "authorship_tag": "ABX9TyPlOB487qPfEY5hHm4KlM4w",
      "include_colab_link": true
    },
    "kernelspec": {
      "name": "python3",
      "display_name": "Python 3"
    },
    "language_info": {
      "name": "python"
    }
  },
  "cells": [
    {
      "cell_type": "markdown",
      "metadata": {
        "id": "view-in-github",
        "colab_type": "text"
      },
      "source": [
        "<a href=\"https://colab.research.google.com/github/deepesh-khamat/Test_cwebsite/blob/main/Traffic.ipynb\" target=\"_parent\"><img src=\"https://colab.research.google.com/assets/colab-badge.svg\" alt=\"Open In Colab\"/></a>"
      ]
    },
    {
      "cell_type": "code",
      "execution_count": 32,
      "metadata": {
        "id": "9OmZ0fKV53-q"
      },
      "outputs": [],
      "source": [
        "import pandas as pd\n",
        "import numpy as np\n",
        "import matplotlib.pyplot as plt\n",
        "import seaborn as sns\n",
        "\n"
      ]
    },
    {
      "cell_type": "code",
      "source": [
        "# Load the image data (X_train)\n",
        "x_train = pd.read_csv('x_train.csv')\n",
        "\n",
        "# Load the corresponding class labels (y_train)\n",
        "y_train = pd.read_csv('y_train.csv')"
      ],
      "metadata": {
        "id": "ZPuRX3Qy5-2J"
      },
      "execution_count": 33,
      "outputs": []
    },
    {
      "cell_type": "code",
      "source": [
        "# Display the first few rows of x_train and y_train\n",
        "print(\"x_train Sample:\")\n",
        "print(x_train.head())\n",
        "\n",
        "print(\"\\ny_train Sample:\")\n",
        "print(y_train.head())\n"
      ],
      "metadata": {
        "id": "YTojMA8P6Gu8",
        "colab": {
          "base_uri": "https://localhost:8080/"
        },
        "outputId": "0cd5f7eb-8e56-4b04-c0b3-11ae610be0d0"
      },
      "execution_count": 34,
      "outputs": [
        {
          "output_type": "stream",
          "name": "stdout",
          "text": [
            "x_train Sample:\n",
            "      0     1     2     3     4      5      6      7      8      9  ...  \\\n",
            "0  78.0  77.0  76.0  82.0  87.0   92.0  104.0  119.0  117.0  120.0  ...   \n",
            "1  73.0  75.0  79.0  78.0  76.0   75.0   89.0  107.0  133.0  125.0  ...   \n",
            "2  72.0  75.0  79.0  77.0  81.0   89.0  105.0  109.0   86.0   90.0  ...   \n",
            "3  67.0  70.0  74.0  80.0  93.0  107.0  110.0   96.0   69.0  100.0  ...   \n",
            "4  74.0  74.0  73.0  72.0  77.0   87.0  104.0  109.0   84.0   83.0  ...   \n",
            "\n",
            "    2294  2295  2296   2297  2298  2299  2300   2301   2302   2303  \n",
            "0   87.0  79.0  72.0   76.0  83.0  95.0  99.0   98.0   95.0   94.0  \n",
            "1   96.0  93.0  85.0   77.0  69.0  73.0  83.0  100.0  101.0  101.0  \n",
            "2   98.0  95.0  88.0   80.0  73.0  71.0  74.0   80.0   89.0   95.0  \n",
            "3  112.0  92.0  87.0   82.0  77.0  72.0  70.0   72.0   81.0   88.0  \n",
            "4  100.0  98.0  99.0  100.0  99.0  89.0  78.0   66.0   68.0   72.0  \n",
            "\n",
            "[5 rows x 2304 columns]\n",
            "\n",
            "y_train Sample:\n",
            "   0\n",
            "0  0\n",
            "1  0\n",
            "2  0\n",
            "3  0\n",
            "4  0\n"
          ]
        }
      ]
    },
    {
      "cell_type": "code",
      "source": [
        "# Check the shape of the datasets\n",
        "print(\"\\nx_train Shape:\", x_train.shape)\n",
        "print(\"y_train Shape:\", y_train.shape)\n"
      ],
      "metadata": {
        "id": "QBXvO_pgEgHW",
        "colab": {
          "base_uri": "https://localhost:8080/"
        },
        "outputId": "1e9741b1-5374-4451-ca19-9644dae84e38"
      },
      "execution_count": 35,
      "outputs": [
        {
          "output_type": "stream",
          "name": "stdout",
          "text": [
            "\n",
            "x_train Shape: (162, 2304)\n",
            "y_train Shape: (9690, 1)\n"
          ]
        }
      ]
    },
    {
      "cell_type": "code",
      "source": [
        "# Check for missing values\n",
        "print(\"\\nMissing Values in x_train:\")\n",
        "print(x_train.isnull().sum())\n",
        "\n"
      ],
      "metadata": {
        "id": "AjYlOK-QEmE-",
        "colab": {
          "base_uri": "https://localhost:8080/"
        },
        "outputId": "991589f4-98b6-4d9d-e963-02bef8687da1"
      },
      "execution_count": 36,
      "outputs": [
        {
          "output_type": "stream",
          "name": "stdout",
          "text": [
            "\n",
            "Missing Values in x_train:\n",
            "0       0\n",
            "1       0\n",
            "2       0\n",
            "3       0\n",
            "4       0\n",
            "       ..\n",
            "2299    1\n",
            "2300    1\n",
            "2301    1\n",
            "2302    1\n",
            "2303    1\n",
            "Length: 2304, dtype: int64\n"
          ]
        }
      ]
    },
    {
      "cell_type": "code",
      "source": [],
      "metadata": {
        "id": "INNqJfdLEwEw"
      },
      "execution_count": 36,
      "outputs": []
    },
    {
      "cell_type": "code",
      "source": [
        "import matplotlib.pyplot as plt\n",
        "\n",
        "# Assuming x_train is a DataFrame or a NumPy array containing image data\n",
        "# Adjust the index (0) as needed to select a specific image\n",
        "image_data = x_train.iloc[0].values.reshape(48,48)  # Assuming 48x48 image size\n",
        "\n",
        "# Display the image\n",
        "plt.figure(figsize=(4, 4))\n",
        "plt.imshow(image_data, cmap='gray')  # Use 'gray' colormap for grayscale images\n",
        "plt.title(\"Sample Image\")\n",
        "plt.axis('off')\n",
        "plt.show()"
      ],
      "metadata": {
        "colab": {
          "base_uri": "https://localhost:8080/",
          "height": 367
        },
        "id": "MLiN-SZLFXCY",
        "outputId": "00c4b6cb-69eb-4332-f374-2b13b432d4fb"
      },
      "execution_count": 37,
      "outputs": [
        {
          "output_type": "display_data",
          "data": {
            "text/plain": [
              "<Figure size 400x400 with 1 Axes>"
            ],
            "image/png": "[encoded data removed]"
          },
          "metadata": {}
        }
      ]
    },
    {
      "cell_type": "code",
      "source": [
        "import matplotlib.pyplot as plt\n",
        "\n",
        "# Assuming x_train is a DataFrame or a NumPy array containing color image data\n",
        "# Adjust the index (0) to select a specific image\n",
        "image_data = x_train.iloc[0].values.reshape(48, 48)  # Assuming 48x48 RGB image size\n",
        "\n",
        "# Create a figure with a single subplot\n",
        "fig, ax = plt.subplots(figsize=(6, 6))\n",
        "\n",
        "# Display the image\n",
        "ax.imshow(image_data)\n",
        "ax.set_title(\"Image 1\")\n",
        "ax.axis('off')\n",
        "\n",
        "# Show the plot\n",
        "plt.show()\n"
      ],
      "metadata": {
        "colab": {
          "base_uri": "https://localhost:8080/",
          "height": 521
        },
        "id": "J9VV9w8xz3ZZ",
        "outputId": "3332dc39-6b79-4495-f544-48090a3fe996"
      },
      "execution_count": 38,
      "outputs": [
        {
          "output_type": "display_data",
          "data": {
            "text/plain": [
              "<Figure size 600x600 with 1 Axes>"
            ],
            "image/png": "[encoded data removed]"
          },
          "metadata": {}
        }
      ]
    },
    {
      "cell_type": "code",
      "source": [
        "\n",
        "total_pixels = 2304  # Total number of pixels per sample\n",
        "pixels_per_image = 48 * 48  # Number of pixels in a 48x48 image\n",
        "\n",
        "# Calculate the number of images\n",
        "num_images = total_pixels / pixels_per_image\n"
      ],
      "metadata": {
        "id": "Ly3WFj_H14oH"
      },
      "execution_count": 39,
      "outputs": []
    },
    {
      "cell_type": "code",
      "source": [
        "num_images = total_pixels / pixels_per_image\n",
        "\n",
        "print(\"Number of images in x_train:\", num_images)\n"
      ],
      "metadata": {
        "colab": {
          "base_uri": "https://localhost:8080/"
        },
        "id": "WLmigU2h2YYA",
        "outputId": "28335c16-350f-41f2-90e7-ed85e2b9833e"
      },
      "execution_count": 40,
      "outputs": [
        {
          "output_type": "stream",
          "name": "stdout",
          "text": [
            "Number of images in x_train: 1.0\n"
          ]
        }
      ]
    }
  ]
}